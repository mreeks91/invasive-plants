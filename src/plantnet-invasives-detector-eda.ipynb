{
 "cells": [
  {
   "cell_type": "code",
   "execution_count": 1,
   "metadata": {},
   "outputs": [],
   "source": [
    "import numpy as np\n",
    "import pandas as pd\n",
    "import matplotlib.pyplot as plt\n",
    "import settings\n",
    "import requests\n",
    "import json"
   ]
  },
  {
   "cell_type": "code",
   "execution_count": 3,
   "metadata": {},
   "outputs": [],
   "source": [
    "API_KEY = settings.PLANTNET_API_KEY\n",
    "PROJECT = 'all'\n",
    "api_endpoint = f\"https://my-api.plantnet.org/v2/identify/{PROJECT}?api-key={API_KEY}\""
   ]
  },
  {
   "cell_type": "markdown",
   "metadata": {},
   "source": [
    "# Identifying plants\n",
    "\n",
    "We'll use the PlantNet API (as a starting point, TODO: investigate iNaturalist API) to identify user-uploaded images of plants. As a first step, we'll expect the user photos to contain a single plant, though eventually we want to apply image segmentation to handle whole-landscape images. The PlantNet API requires us to identify a prominent organ type (leaf, flower, bark, etc.) in the image to aid in identification; we need to experiment with how much this matters, and whether we can handle it without user input."
   ]
  },
  {
   "cell_type": "code",
   "execution_count": 6,
   "metadata": {},
   "outputs": [
    {
     "ename": "KeyError",
     "evalue": "'commonNames'",
     "output_type": "error",
     "traceback": [
      "\u001b[1;31m---------------------------------------------------------------------------\u001b[0m",
      "\u001b[1;31mKeyError\u001b[0m                                  Traceback (most recent call last)",
      "Cell \u001b[1;32mIn[6], line 12\u001b[0m\n\u001b[0;32m      9\u001b[0m response \u001b[38;5;241m=\u001b[39m s\u001b[38;5;241m.\u001b[39msend(prepared)\n\u001b[0;32m     10\u001b[0m result \u001b[38;5;241m=\u001b[39m json\u001b[38;5;241m.\u001b[39mloads(response\u001b[38;5;241m.\u001b[39mtext)\n\u001b[1;32m---> 12\u001b[0m \u001b[38;5;28mprint\u001b[39m(result[\u001b[38;5;124m'\u001b[39m\u001b[38;5;124mbestMatch\u001b[39m\u001b[38;5;124m'\u001b[39m], result[\u001b[38;5;124m'\u001b[39m\u001b[38;5;124mresults\u001b[39m\u001b[38;5;124m'\u001b[39m][\u001b[38;5;241m0\u001b[39m][\u001b[38;5;124m'\u001b[39m\u001b[38;5;124mscore\u001b[39m\u001b[38;5;124m'\u001b[39m], \u001b[43mresult\u001b[49m\u001b[43m[\u001b[49m\u001b[38;5;124;43m'\u001b[39;49m\u001b[38;5;124;43mresults\u001b[39;49m\u001b[38;5;124;43m'\u001b[39;49m\u001b[43m]\u001b[49m\u001b[43m[\u001b[49m\u001b[38;5;241;43m0\u001b[39;49m\u001b[43m]\u001b[49m\u001b[43m[\u001b[49m\u001b[38;5;124;43m'\u001b[39;49m\u001b[38;5;124;43mcommonNames\u001b[39;49m\u001b[38;5;124;43m'\u001b[39;49m\u001b[43m]\u001b[49m)\n",
      "\u001b[1;31mKeyError\u001b[0m: 'commonNames'"
     ]
    }
   ],
   "source": [
    "img_path = '../data/img/img1.jpg'\n",
    "with open(img_path, 'rb') as img_data:\n",
    "    files = [\n",
    "            ('images', (img_path,img_data))\n",
    "            ]\n",
    "    req = requests.Request('POST', url = api_endpoint, files = files, data = {'organs': ['flower',]})\n",
    "    prepared = req.prepare()\n",
    "    s = requests.Session()\n",
    "    response = s.send(prepared)\n",
    "    result = json.loads(response.text)"
   ]
  },
  {
   "cell_type": "code",
   "execution_count": 11,
   "metadata": {},
   "outputs": [
    {
     "name": "stdout",
     "output_type": "stream",
     "text": [
      "Pyrus calleryana Decne. 0.39538 ['Bradford Pear', 'Callery pear', 'Ornamental pear']\n"
     ]
    }
   ],
   "source": [
    "print(result['bestMatch'], result['results'][0]['score'], result['results'][0]['species']['commonNames'])"
   ]
  },
  {
   "cell_type": "markdown",
   "metadata": {},
   "source": [
    "Let's wrap this in a function."
   ]
  },
  {
   "cell_type": "code",
   "execution_count": 58,
   "metadata": {},
   "outputs": [
    {
     "data": {
      "text/plain": [
       "('Pyrus calleryana Decne.',\n",
       " ['Bradford Pear', 'Callery pear', 'Ornamental pear'],\n",
       " 0.39538)"
      ]
     },
     "execution_count": 58,
     "metadata": {},
     "output_type": "execute_result"
    }
   ],
   "source": [
    "def id_plant(img_path,organ = 'leaf'):\n",
    "    with open(img_path, 'rb') as img_data:\n",
    "        files = [\n",
    "                ('images', (img_path,img_data))\n",
    "                ]\n",
    "        req = requests.Request('POST', url = api_endpoint, files = files, data = {'organs': [organ,]})\n",
    "        prepared = req.prepare()\n",
    "        s = requests.Session()\n",
    "        response = s.send(prepared)\n",
    "        result = json.loads(response.text)\n",
    "    return result['bestMatch'], result['results'][0]['species']['commonNames'], result['results'][0]['score']\n",
    "\n",
    "id_plant(img_path)"
   ]
  },
  {
   "cell_type": "markdown",
   "metadata": {},
   "source": [
    "# Comparing results to the PA Invasive species list"
   ]
  },
  {
   "cell_type": "code",
   "execution_count": 21,
   "metadata": {},
   "outputs": [
    {
     "data": {
      "text/html": [
       "<div>\n",
       "<style scoped>\n",
       "    .dataframe tbody tr th:only-of-type {\n",
       "        vertical-align: middle;\n",
       "    }\n",
       "\n",
       "    .dataframe tbody tr th {\n",
       "        vertical-align: top;\n",
       "    }\n",
       "\n",
       "    .dataframe thead th {\n",
       "        text-align: right;\n",
       "    }\n",
       "</style>\n",
       "<table border=\"1\" class=\"dataframe\">\n",
       "  <thead>\n",
       "    <tr style=\"text-align: right;\">\n",
       "      <th></th>\n",
       "      <th>Scientific Name</th>\n",
       "      <th>Common Name</th>\n",
       "      <th>PISC Priority Score</th>\n",
       "      <th>PA Noxious Weed Rank</th>\n",
       "      <th>Invasive Assessment Score</th>\n",
       "      <th>Aquatic or Terrestrial</th>\n",
       "      <th>PLNA Economic Importance Score</th>\n",
       "      <th>DCNR Rank</th>\n",
       "      <th>EDRR</th>\n",
       "    </tr>\n",
       "  </thead>\n",
       "  <tbody>\n",
       "    <tr>\n",
       "      <th>0</th>\n",
       "      <td>Wisteria sinensis</td>\n",
       "      <td>Chinese Wisteria</td>\n",
       "      <td>3.6</td>\n",
       "      <td>NaN</td>\n",
       "      <td>57.0</td>\n",
       "      <td>Terrestrial</td>\n",
       "      <td>4.2</td>\n",
       "      <td>2</td>\n",
       "      <td>No</td>\n",
       "    </tr>\n",
       "    <tr>\n",
       "      <th>1</th>\n",
       "      <td>Wisteria floribunda</td>\n",
       "      <td>Japanese Wisteria</td>\n",
       "      <td>4.5</td>\n",
       "      <td>NaN</td>\n",
       "      <td>57.0</td>\n",
       "      <td>Terrestrial</td>\n",
       "      <td>4.6</td>\n",
       "      <td>2</td>\n",
       "      <td>No</td>\n",
       "    </tr>\n",
       "    <tr>\n",
       "      <th>2</th>\n",
       "      <td>Vincetoxicum rossicum</td>\n",
       "      <td>Pale Swallow-Wort</td>\n",
       "      <td>4.4</td>\n",
       "      <td>B</td>\n",
       "      <td>88.0</td>\n",
       "      <td>Terrestrial</td>\n",
       "      <td>0.1</td>\n",
       "      <td>1</td>\n",
       "      <td>No</td>\n",
       "    </tr>\n",
       "    <tr>\n",
       "      <th>3</th>\n",
       "      <td>Vincetoxicum nigrum</td>\n",
       "      <td>Black Swallow-Wort</td>\n",
       "      <td>4.5</td>\n",
       "      <td>B</td>\n",
       "      <td>90.0</td>\n",
       "      <td>Terrestrial</td>\n",
       "      <td>0.4</td>\n",
       "      <td>1</td>\n",
       "      <td>No</td>\n",
       "    </tr>\n",
       "    <tr>\n",
       "      <th>4</th>\n",
       "      <td>Vinca minor</td>\n",
       "      <td>Common Periwinkle</td>\n",
       "      <td>2.2</td>\n",
       "      <td>NaN</td>\n",
       "      <td>57.0</td>\n",
       "      <td>Terrestrial</td>\n",
       "      <td>7.6</td>\n",
       "      <td>3</td>\n",
       "      <td>No</td>\n",
       "    </tr>\n",
       "  </tbody>\n",
       "</table>\n",
       "</div>"
      ],
      "text/plain": [
       "         Scientific Name         Common Name  PISC Priority Score  \\\n",
       "0      Wisteria sinensis    Chinese Wisteria                  3.6   \n",
       "1    Wisteria floribunda   Japanese Wisteria                  4.5   \n",
       "2  Vincetoxicum rossicum   Pale Swallow-Wort                  4.4   \n",
       "3    Vincetoxicum nigrum  Black Swallow-Wort                  4.5   \n",
       "4            Vinca minor   Common Periwinkle                  2.2   \n",
       "\n",
       "  PA Noxious Weed Rank  Invasive Assessment Score Aquatic or Terrestrial  \\\n",
       "0                  NaN                       57.0            Terrestrial   \n",
       "1                  NaN                       57.0            Terrestrial   \n",
       "2                    B                       88.0            Terrestrial   \n",
       "3                    B                       90.0            Terrestrial   \n",
       "4                  NaN                       57.0            Terrestrial   \n",
       "\n",
       "   PLNA Economic Importance Score DCNR Rank EDRR  \n",
       "0                             4.2         2   No  \n",
       "1                             4.6         2   No  \n",
       "2                             0.1         1   No  \n",
       "3                             0.4         1   No  \n",
       "4                             7.6         3   No  "
      ]
     },
     "execution_count": 21,
     "metadata": {},
     "output_type": "execute_result"
    }
   ],
   "source": [
    "invasives = pd.read_csv('../data/pa_invasives.csv')\n",
    "invasives.head(5)"
   ]
  },
  {
   "cell_type": "markdown",
   "metadata": {},
   "source": [
    "We've identified an invasive Callery/Bradford pear up above. Let's try to match it to this list."
   ]
  },
  {
   "cell_type": "code",
   "execution_count": 24,
   "metadata": {},
   "outputs": [
    {
     "data": {
      "text/html": [
       "<div>\n",
       "<style scoped>\n",
       "    .dataframe tbody tr th:only-of-type {\n",
       "        vertical-align: middle;\n",
       "    }\n",
       "\n",
       "    .dataframe tbody tr th {\n",
       "        vertical-align: top;\n",
       "    }\n",
       "\n",
       "    .dataframe thead th {\n",
       "        text-align: right;\n",
       "    }\n",
       "</style>\n",
       "<table border=\"1\" class=\"dataframe\">\n",
       "  <thead>\n",
       "    <tr style=\"text-align: right;\">\n",
       "      <th></th>\n",
       "      <th>Scientific Name</th>\n",
       "      <th>Common Name</th>\n",
       "      <th>PISC Priority Score</th>\n",
       "      <th>PA Noxious Weed Rank</th>\n",
       "      <th>Invasive Assessment Score</th>\n",
       "      <th>Aquatic or Terrestrial</th>\n",
       "      <th>PLNA Economic Importance Score</th>\n",
       "      <th>DCNR Rank</th>\n",
       "      <th>EDRR</th>\n",
       "    </tr>\n",
       "  </thead>\n",
       "  <tbody>\n",
       "    <tr>\n",
       "      <th>28</th>\n",
       "      <td>pyrus calleryana</td>\n",
       "      <td>Callery Pear</td>\n",
       "      <td>5.8</td>\n",
       "      <td>B</td>\n",
       "      <td>65.0</td>\n",
       "      <td>Terrestrial</td>\n",
       "      <td>3.7</td>\n",
       "      <td>2</td>\n",
       "      <td>No</td>\n",
       "    </tr>\n",
       "  </tbody>\n",
       "</table>\n",
       "</div>"
      ],
      "text/plain": [
       "     Scientific Name   Common Name  PISC Priority Score PA Noxious Weed Rank  \\\n",
       "28  pyrus calleryana  Callery Pear                  5.8                    B   \n",
       "\n",
       "    Invasive Assessment Score Aquatic or Terrestrial  \\\n",
       "28                       65.0            Terrestrial   \n",
       "\n",
       "    PLNA Economic Importance Score DCNR Rank EDRR  \n",
       "28                             3.7         2   No  "
      ]
     },
     "execution_count": 24,
     "metadata": {},
     "output_type": "execute_result"
    }
   ],
   "source": [
    "invasives.loc[invasives['Scientific Name'] == 'pyrus calleryana']"
   ]
  },
  {
   "cell_type": "code",
   "execution_count": 32,
   "metadata": {},
   "outputs": [
    {
     "data": {
      "text/html": [
       "<div>\n",
       "<style scoped>\n",
       "    .dataframe tbody tr th:only-of-type {\n",
       "        vertical-align: middle;\n",
       "    }\n",
       "\n",
       "    .dataframe tbody tr th {\n",
       "        vertical-align: top;\n",
       "    }\n",
       "\n",
       "    .dataframe thead th {\n",
       "        text-align: right;\n",
       "    }\n",
       "</style>\n",
       "<table border=\"1\" class=\"dataframe\">\n",
       "  <thead>\n",
       "    <tr style=\"text-align: right;\">\n",
       "      <th></th>\n",
       "      <th>Scientific Name</th>\n",
       "      <th>Common Name</th>\n",
       "      <th>PISC Priority Score</th>\n",
       "      <th>PA Noxious Weed Rank</th>\n",
       "      <th>Invasive Assessment Score</th>\n",
       "      <th>Aquatic or Terrestrial</th>\n",
       "      <th>PLNA Economic Importance Score</th>\n",
       "      <th>DCNR Rank</th>\n",
       "      <th>EDRR</th>\n",
       "    </tr>\n",
       "  </thead>\n",
       "  <tbody>\n",
       "    <tr>\n",
       "      <th>28</th>\n",
       "      <td>pyrus calleryana</td>\n",
       "      <td>Callery Pear</td>\n",
       "      <td>5.8</td>\n",
       "      <td>B</td>\n",
       "      <td>65.0</td>\n",
       "      <td>Terrestrial</td>\n",
       "      <td>3.7</td>\n",
       "      <td>2</td>\n",
       "      <td>No</td>\n",
       "    </tr>\n",
       "  </tbody>\n",
       "</table>\n",
       "</div>"
      ],
      "text/plain": [
       "     Scientific Name   Common Name  PISC Priority Score PA Noxious Weed Rank  \\\n",
       "28  pyrus calleryana  Callery Pear                  5.8                    B   \n",
       "\n",
       "    Invasive Assessment Score Aquatic or Terrestrial  \\\n",
       "28                       65.0            Terrestrial   \n",
       "\n",
       "    PLNA Economic Importance Score DCNR Rank EDRR  \n",
       "28                             3.7         2   No  "
      ]
     },
     "execution_count": 32,
     "metadata": {},
     "output_type": "execute_result"
    }
   ],
   "source": [
    "invasives['Scientific Name'] = invasives['Scientific Name'].str.lower()\n",
    "species_id = result['bestMatch'].lower()\n",
    "species_id\n",
    "\n",
    "invasives[invasives['Scientific Name'].apply(lambda x: species_id in x or x in species_id)]"
   ]
  },
  {
   "cell_type": "markdown",
   "metadata": {},
   "source": [
    "That's a bit ugly. Who knows how the names will end up being related to each other. Let's try fuzzy matching."
   ]
  },
  {
   "cell_type": "code",
   "execution_count": 34,
   "metadata": {},
   "outputs": [],
   "source": [
    "from fuzzywuzzy import fuzz"
   ]
  },
  {
   "cell_type": "code",
   "execution_count": 35,
   "metadata": {},
   "outputs": [
    {
     "data": {
      "text/plain": [
       "82"
      ]
     },
     "execution_count": 35,
     "metadata": {},
     "output_type": "execute_result"
    }
   ],
   "source": [
    "fuzz.ratio(species_id,'pyrus calleryana')"
   ]
  },
  {
   "cell_type": "code",
   "execution_count": 47,
   "metadata": {},
   "outputs": [
    {
     "data": {
      "text/plain": [
       "Scientific Name                   pyrus calleryana\n",
       "Common Name                           Callery Pear\n",
       "PISC Priority Score                            5.8\n",
       "PA Noxious Weed Rank                             B\n",
       "Invasive Assessment Score                     65.0\n",
       "Aquatic or Terrestrial                 Terrestrial\n",
       "PLNA Economic Importance Score                 3.7\n",
       "DCNR Rank                                        2\n",
       "EDRR                                            No\n",
       "Name: 28, dtype: object"
      ]
     },
     "execution_count": 47,
     "metadata": {},
     "output_type": "execute_result"
    }
   ],
   "source": [
    "matches = invasives['Scientific Name'].apply(lambda x: fuzz.ratio(species_id,x)).sort_values(ascending=False)\n",
    "match = invasives.iloc[list(matches.index)[0]]\n",
    "match"
   ]
  },
  {
   "cell_type": "code",
   "execution_count": 46,
   "metadata": {},
   "outputs": [
    {
     "data": {
      "text/plain": [
       "28"
      ]
     },
     "execution_count": 46,
     "metadata": {},
     "output_type": "execute_result"
    }
   ],
   "source": [
    "list(matches.index)[0]"
   ]
  },
  {
   "cell_type": "markdown",
   "metadata": {},
   "source": [
    "Now let's try with a non-invasive and see what the matches look like."
   ]
  },
  {
   "cell_type": "code",
   "execution_count": 50,
   "metadata": {},
   "outputs": [
    {
     "data": {
      "text/plain": [
       "'Phlox subulata L.'"
      ]
     },
     "execution_count": 50,
     "metadata": {},
     "output_type": "execute_result"
    }
   ],
   "source": [
    "phlox_img = '../data/img/phlox.png'\n",
    "species_id, common_names, score = id_plant(phlox_img, organ = 'flower')\n",
    "species_id"
   ]
  },
  {
   "cell_type": "code",
   "execution_count": 51,
   "metadata": {},
   "outputs": [
    {
     "data": {
      "text/plain": [
       "33     47\n",
       "97     44\n",
       "131    41\n",
       "134    40\n",
       "34     39\n",
       "       ..\n",
       "73     12\n",
       "75     12\n",
       "15     11\n",
       "136    11\n",
       "51      7\n",
       "Name: Scientific Name, Length: 148, dtype: int64"
      ]
     },
     "execution_count": 51,
     "metadata": {},
     "output_type": "execute_result"
    }
   ],
   "source": [
    "matches = invasives['Scientific Name'].apply(lambda x: fuzz.ratio(species_id,x)).sort_values(ascending=False)\n",
    "matches"
   ]
  },
  {
   "cell_type": "markdown",
   "metadata": {},
   "source": [
    "More confident than I would have thought; maybe a different metric would be better?"
   ]
  },
  {
   "cell_type": "code",
   "execution_count": 52,
   "metadata": {},
   "outputs": [
    {
     "data": {
      "text/plain": [
       "139    47\n",
       "34     46\n",
       "131    43\n",
       "113    43\n",
       "33     43\n",
       "       ..\n",
       "135    12\n",
       "48     12\n",
       "116    11\n",
       "45     11\n",
       "57     11\n",
       "Name: Scientific Name, Length: 148, dtype: int64"
      ]
     },
     "execution_count": 52,
     "metadata": {},
     "output_type": "execute_result"
    }
   ],
   "source": [
    "matches = invasives['Scientific Name'].apply(lambda x: fuzz.token_sort_ratio(species_id,x)).sort_values(ascending=False)\n",
    "matches"
   ]
  },
  {
   "cell_type": "code",
   "execution_count": 56,
   "metadata": {},
   "outputs": [
    {
     "data": {
      "text/plain": [
       "47"
      ]
     },
     "execution_count": 56,
     "metadata": {},
     "output_type": "execute_result"
    }
   ],
   "source": [
    "matches = invasives['Scientific Name'].apply(lambda x: fuzz.token_set_ratio(species_id,x)).sort_values(ascending=False)\n",
    "list(matches.values)[0]"
   ]
  },
  {
   "cell_type": "markdown",
   "metadata": {},
   "source": [
    "Nope. Might just have to set our threshold a bit higher, around 75?"
   ]
  },
  {
   "cell_type": "code",
   "execution_count": 57,
   "metadata": {},
   "outputs": [
    {
     "data": {
      "text/plain": [
       "('Invasive', 'Not invasive')"
      ]
     },
     "execution_count": 57,
     "metadata": {},
     "output_type": "execute_result"
    }
   ],
   "source": [
    "def is_invasive(species_id, threshold = 75):\n",
    "    matches = invasives['Scientific Name'].apply(lambda x: fuzz.ratio(species_id,x)).sort_values(ascending=False)\n",
    "    confidence = list(matches.values)[0]\n",
    "    if confidence >= threshold:\n",
    "        return \"Invasive\"\n",
    "    else:\n",
    "        return \"Not invasive\" # eventually should add a \"Native\" identifier\n",
    "\n",
    "is_invasive(id_plant(img_path)[0]), is_invasive(id_plant(phlox_img)[0])"
   ]
  },
  {
   "cell_type": "markdown",
   "metadata": {},
   "source": [
    "Great! Let's do some battery testing."
   ]
  },
  {
   "cell_type": "code",
   "execution_count": 63,
   "metadata": {},
   "outputs": [
    {
     "name": "stdout",
     "output_type": "stream",
     "text": [
      "ID: Pyrus calleryana Decne., common names ['Bradford Pear', 'Callery pear', 'Ornamental pear'] is Invasive.\n",
      "ID: Wisteria sinensis (Sims) Sweet, common names ['Chinese Wisteria', 'Pruneau', 'پیچ گلیسین'] is Not invasive.\n",
      "ID: Reynoutria japonica Houtt., common names ['Japanese knotweed', 'Impossible to kill invasive demon plant', 'Mexican-bamboo'] is Not invasive.\n",
      "ID: Alliaria petiolata (M.Bieb.) Cavara & Grande, common names ['Garlic Mustard', 'Jack-By-The-Hedge', 'Hedge-Garlic'] is Not invasive.\n",
      "ID: Tulipa agenensis Redouté, common names ['Tulip', 'Common tulip'] is Not invasive.\n",
      "ID: Quercus robur L., common names ['Common Oak', 'English oak', 'Pedunculate oak'] is Not invasive.\n",
      "ID: Phlox subulata L., common names ['Moss phlox', 'Creeping phlox', 'Moss-pink'] is Not invasive.\n"
     ]
    }
   ],
   "source": [
    "import os\n",
    "\n",
    "imgs = os.listdir('../data/img')\n",
    "for img in imgs:\n",
    "    species_id, commonNames, score = id_plant('../data/img/'+img) #organ always set to leaf -- to what extent does this matter?\n",
    "    invasive = is_invasive(species_id)\n",
    "    print(f'ID: {species_id}, common names {commonNames} is {invasive}.')\n"
   ]
  },
  {
   "cell_type": "markdown",
   "metadata": {},
   "source": [
    "Oh nooooo. Numbers 2-4 are all definitely invasive. Let's take another look at the matching."
   ]
  },
  {
   "cell_type": "code",
   "execution_count": 64,
   "metadata": {},
   "outputs": [
    {
     "data": {
      "text/html": [
       "<div>\n",
       "<style scoped>\n",
       "    .dataframe tbody tr th:only-of-type {\n",
       "        vertical-align: middle;\n",
       "    }\n",
       "\n",
       "    .dataframe tbody tr th {\n",
       "        vertical-align: top;\n",
       "    }\n",
       "\n",
       "    .dataframe thead th {\n",
       "        text-align: right;\n",
       "    }\n",
       "</style>\n",
       "<table border=\"1\" class=\"dataframe\">\n",
       "  <thead>\n",
       "    <tr style=\"text-align: right;\">\n",
       "      <th></th>\n",
       "      <th>Scientific Name</th>\n",
       "      <th>Common Name</th>\n",
       "      <th>PISC Priority Score</th>\n",
       "      <th>PA Noxious Weed Rank</th>\n",
       "      <th>Invasive Assessment Score</th>\n",
       "      <th>Aquatic or Terrestrial</th>\n",
       "      <th>PLNA Economic Importance Score</th>\n",
       "      <th>DCNR Rank</th>\n",
       "      <th>EDRR</th>\n",
       "    </tr>\n",
       "  </thead>\n",
       "  <tbody>\n",
       "    <tr>\n",
       "      <th>0</th>\n",
       "      <td>wisteria sinensis</td>\n",
       "      <td>Chinese Wisteria</td>\n",
       "      <td>3.6</td>\n",
       "      <td>NaN</td>\n",
       "      <td>57.0</td>\n",
       "      <td>Terrestrial</td>\n",
       "      <td>4.2</td>\n",
       "      <td>2</td>\n",
       "      <td>No</td>\n",
       "    </tr>\n",
       "  </tbody>\n",
       "</table>\n",
       "</div>"
      ],
      "text/plain": [
       "     Scientific Name       Common Name  PISC Priority Score  \\\n",
       "0  wisteria sinensis  Chinese Wisteria                  3.6   \n",
       "\n",
       "  PA Noxious Weed Rank  Invasive Assessment Score Aquatic or Terrestrial  \\\n",
       "0                  NaN                       57.0            Terrestrial   \n",
       "\n",
       "   PLNA Economic Importance Score DCNR Rank EDRR  \n",
       "0                             4.2         2   No  "
      ]
     },
     "execution_count": 64,
     "metadata": {},
     "output_type": "execute_result"
    }
   ],
   "source": [
    "invasives.loc[invasives['Scientific Name'] == 'wisteria sinensis']"
   ]
  },
  {
   "cell_type": "code",
   "execution_count": 65,
   "metadata": {},
   "outputs": [
    {
     "data": {
      "text/plain": [
       "68"
      ]
     },
     "execution_count": 65,
     "metadata": {},
     "output_type": "execute_result"
    }
   ],
   "source": [
    "fuzz.ratio('Wisteria sinensis (Sims) Sweet', 'wisteria sinensis')"
   ]
  },
  {
   "cell_type": "code",
   "execution_count": 70,
   "metadata": {},
   "outputs": [
    {
     "data": {
      "text/html": [
       "<div>\n",
       "<style scoped>\n",
       "    .dataframe tbody tr th:only-of-type {\n",
       "        vertical-align: middle;\n",
       "    }\n",
       "\n",
       "    .dataframe tbody tr th {\n",
       "        vertical-align: top;\n",
       "    }\n",
       "\n",
       "    .dataframe thead th {\n",
       "        text-align: right;\n",
       "    }\n",
       "</style>\n",
       "<table border=\"1\" class=\"dataframe\">\n",
       "  <thead>\n",
       "    <tr style=\"text-align: right;\">\n",
       "      <th></th>\n",
       "      <th>Scientific Name</th>\n",
       "      <th>Common Name</th>\n",
       "      <th>PISC Priority Score</th>\n",
       "      <th>PA Noxious Weed Rank</th>\n",
       "      <th>Invasive Assessment Score</th>\n",
       "      <th>Aquatic or Terrestrial</th>\n",
       "      <th>PLNA Economic Importance Score</th>\n",
       "      <th>DCNR Rank</th>\n",
       "      <th>EDRR</th>\n",
       "    </tr>\n",
       "  </thead>\n",
       "  <tbody>\n",
       "    <tr>\n",
       "      <th>23</th>\n",
       "      <td>rubus phoenicolasius</td>\n",
       "      <td>Wineberry</td>\n",
       "      <td>2.8</td>\n",
       "      <td>NaN</td>\n",
       "      <td>86.0</td>\n",
       "      <td>Terrestrial</td>\n",
       "      <td>0.9</td>\n",
       "      <td>2</td>\n",
       "      <td>No</td>\n",
       "    </tr>\n",
       "    <tr>\n",
       "      <th>24</th>\n",
       "      <td>rosa multiflora</td>\n",
       "      <td>Multiflora Rose</td>\n",
       "      <td>6.2</td>\n",
       "      <td>B</td>\n",
       "      <td>89.0</td>\n",
       "      <td>Terrestrial</td>\n",
       "      <td>NaN</td>\n",
       "      <td>1</td>\n",
       "      <td>No</td>\n",
       "    </tr>\n",
       "    <tr>\n",
       "      <th>25</th>\n",
       "      <td>rhodotypos scanden</td>\n",
       "      <td>Jetbead</td>\n",
       "      <td>2.6</td>\n",
       "      <td>NaN</td>\n",
       "      <td>69.0</td>\n",
       "      <td>Terrestrial</td>\n",
       "      <td>1.3</td>\n",
       "      <td>1</td>\n",
       "      <td>No</td>\n",
       "    </tr>\n",
       "    <tr>\n",
       "      <th>26</th>\n",
       "      <td>rhamnus cathartica</td>\n",
       "      <td>Common Buckthorn</td>\n",
       "      <td>5.8</td>\n",
       "      <td>B</td>\n",
       "      <td>81.0</td>\n",
       "      <td>Terrestrial</td>\n",
       "      <td>2.3</td>\n",
       "      <td>1</td>\n",
       "      <td>No</td>\n",
       "    </tr>\n",
       "  </tbody>\n",
       "</table>\n",
       "</div>"
      ],
      "text/plain": [
       "         Scientific Name       Common Name  PISC Priority Score  \\\n",
       "23  rubus phoenicolasius         Wineberry                  2.8   \n",
       "24       rosa multiflora   Multiflora Rose                  6.2   \n",
       "25    rhodotypos scanden           Jetbead                  2.6   \n",
       "26    rhamnus cathartica  Common Buckthorn                  5.8   \n",
       "\n",
       "   PA Noxious Weed Rank  Invasive Assessment Score Aquatic or Terrestrial  \\\n",
       "23                  NaN                       86.0            Terrestrial   \n",
       "24                    B                       89.0            Terrestrial   \n",
       "25                  NaN                       69.0            Terrestrial   \n",
       "26                    B                       81.0            Terrestrial   \n",
       "\n",
       "    PLNA Economic Importance Score DCNR Rank EDRR  \n",
       "23                             0.9         2   No  \n",
       "24                             NaN         1   No  \n",
       "25                             1.3         1   No  \n",
       "26                             2.3         1   No  "
      ]
     },
     "execution_count": 70,
     "metadata": {},
     "output_type": "execute_result"
    }
   ],
   "source": [
    "invasives.loc[invasives['Scientific Name'].str[0] == 'r']"
   ]
  },
  {
   "cell_type": "markdown",
   "metadata": {},
   "source": [
    "Oops, need to find a more complete noxious weeds list. Problem for next time."
   ]
  },
  {
   "cell_type": "code",
   "execution_count": 71,
   "metadata": {},
   "outputs": [
    {
     "data": {
      "text/html": [
       "<div>\n",
       "<style scoped>\n",
       "    .dataframe tbody tr th:only-of-type {\n",
       "        vertical-align: middle;\n",
       "    }\n",
       "\n",
       "    .dataframe tbody tr th {\n",
       "        vertical-align: top;\n",
       "    }\n",
       "\n",
       "    .dataframe thead th {\n",
       "        text-align: right;\n",
       "    }\n",
       "</style>\n",
       "<table border=\"1\" class=\"dataframe\">\n",
       "  <thead>\n",
       "    <tr style=\"text-align: right;\">\n",
       "      <th></th>\n",
       "      <th>Scientific Name</th>\n",
       "      <th>Common Name</th>\n",
       "      <th>PISC Priority Score</th>\n",
       "      <th>PA Noxious Weed Rank</th>\n",
       "      <th>Invasive Assessment Score</th>\n",
       "      <th>Aquatic or Terrestrial</th>\n",
       "      <th>PLNA Economic Importance Score</th>\n",
       "      <th>DCNR Rank</th>\n",
       "      <th>EDRR</th>\n",
       "    </tr>\n",
       "  </thead>\n",
       "  <tbody>\n",
       "    <tr>\n",
       "      <th>139</th>\n",
       "      <td>alliaria petiolata</td>\n",
       "      <td>Garlic Mustard</td>\n",
       "      <td>6.1</td>\n",
       "      <td>B</td>\n",
       "      <td>84.0</td>\n",
       "      <td>Terrestrial</td>\n",
       "      <td>0.6</td>\n",
       "      <td>1</td>\n",
       "      <td>No</td>\n",
       "    </tr>\n",
       "  </tbody>\n",
       "</table>\n",
       "</div>"
      ],
      "text/plain": [
       "        Scientific Name     Common Name  PISC Priority Score  \\\n",
       "139  alliaria petiolata  Garlic Mustard                  6.1   \n",
       "\n",
       "    PA Noxious Weed Rank  Invasive Assessment Score Aquatic or Terrestrial  \\\n",
       "139                    B                       84.0            Terrestrial   \n",
       "\n",
       "     PLNA Economic Importance Score DCNR Rank EDRR  \n",
       "139                             0.6         1   No  "
      ]
     },
     "execution_count": 71,
     "metadata": {},
     "output_type": "execute_result"
    }
   ],
   "source": [
    "invasives.loc[invasives['Scientific Name'] == 'alliaria petiolata']"
   ]
  },
  {
   "cell_type": "code",
   "execution_count": 72,
   "metadata": {},
   "outputs": [
    {
     "data": {
      "text/plain": [
       "55"
      ]
     },
     "execution_count": 72,
     "metadata": {},
     "output_type": "execute_result"
    }
   ],
   "source": [
    "fuzz.ratio('Alliaria petiolata (M.Bieb.) Cavara & Grande','alliaria petiolata')"
   ]
  },
  {
   "cell_type": "markdown",
   "metadata": {},
   "source": [
    "LAME"
   ]
  },
  {
   "cell_type": "code",
   "execution_count": 74,
   "metadata": {},
   "outputs": [
    {
     "name": "stdout",
     "output_type": "stream",
     "text": [
      "ID: Pyrus calleryana Decne., common names ['Bradford Pear', 'Callery pear', 'Ornamental pear'] is Invasive.\n",
      "ID: Wisteria sinensis (Sims) Sweet, common names ['Chinese Wisteria', 'پیچ گلیسین', 'Pruneau'] is Invasive.\n",
      "ID: Reynoutria japonica Houtt., common names ['Japanese knotweed', 'Impossible to kill invasive demon plant', 'Mexican-bamboo'] is Invasive.\n",
      "ID: Alliaria petiolata (M.Bieb.) Cavara & Grande, common names ['Garlic Mustard', 'Jack-By-The-Hedge', 'Hedge-Garlic'] is Invasive.\n",
      "ID: Tulipa agenensis Redouté, common names ['Common tulip', 'Tulip'] is Not invasive.\n",
      "ID: Quercus robur L., common names ['Common Oak', 'English oak', 'Pedunculate oak'] is Not invasive.\n",
      "ID: Phlox subulata L., common names ['Moss phlox', 'Creeping phlox', 'Moss-pink'] is Not invasive.\n"
     ]
    }
   ],
   "source": [
    "imgs = os.listdir('../data/img')\n",
    "for img in imgs:\n",
    "    species_id, commonNames, score = id_plant('../data/img/'+img) #organ always set to leaf -- to what extent does this matter?\n",
    "    invasive = is_invasive(species_id, threshold = 50)\n",
    "    print(f'ID: {species_id}, common names {commonNames} is {invasive}.')\n"
   ]
  },
  {
   "cell_type": "code",
   "execution_count": 76,
   "metadata": {},
   "outputs": [
    {
     "data": {
      "text/plain": [
       "92     67\n",
       "66     67\n",
       "18     63\n",
       "111    59\n",
       "71     58\n",
       "       ..\n",
       "19     11\n",
       "116    11\n",
       "57     10\n",
       "105     6\n",
       "32      5\n",
       "Name: Scientific Name, Length: 148, dtype: int64"
      ]
     },
     "execution_count": 76,
     "metadata": {},
     "output_type": "execute_result"
    }
   ],
   "source": [
    "matches = invasives['Scientific Name'].apply(lambda x: fuzz.ratio('Reynoutria japonica',x)).sort_values(ascending=False)\n",
    "matches"
   ]
  },
  {
   "cell_type": "code",
   "execution_count": 77,
   "metadata": {},
   "outputs": [
    {
     "data": {
      "text/plain": [
       "Scientific Name                   fallopia japonica\n",
       "Common Name                       Japanese Knotweed\n",
       "PISC Priority Score                             8.0\n",
       "PA Noxious Weed Rank                              B\n",
       "Invasive Assessment Score                      98.0\n",
       "Aquatic or Terrestrial                  Terrestrial\n",
       "PLNA Economic Importance Score                  0.3\n",
       "DCNR Rank                                         1\n",
       "EDRR                                             No\n",
       "Name: 92, dtype: object"
      ]
     },
     "execution_count": 77,
     "metadata": {},
     "output_type": "execute_result"
    }
   ],
   "source": [
    "invasives.iloc[92]"
   ]
  },
  {
   "cell_type": "markdown",
   "metadata": {},
   "source": [
    "Are there two different scientific names for Japanese Knotweed? There are! Science has let me down."
   ]
  }
 ],
 "metadata": {
  "kernelspec": {
   "display_name": ".venv",
   "language": "python",
   "name": "python3"
  },
  "language_info": {
   "codemirror_mode": {
    "name": "ipython",
    "version": 3
   },
   "file_extension": ".py",
   "mimetype": "text/x-python",
   "name": "python",
   "nbconvert_exporter": "python",
   "pygments_lexer": "ipython3",
   "version": "3.12.2"
  }
 },
 "nbformat": 4,
 "nbformat_minor": 2
}
