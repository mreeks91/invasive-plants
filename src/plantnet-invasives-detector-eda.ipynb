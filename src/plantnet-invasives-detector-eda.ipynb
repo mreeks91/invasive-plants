{
 "cells": [
  {
   "cell_type": "code",
   "execution_count": 4,
   "metadata": {},
   "outputs": [],
   "source": [
    "import numpy as np\n",
    "import pandas as pd\n",
    "import matplotlib.pyplot as plt\n",
    "import settings\n",
    "import requests\n",
    "import json"
   ]
  },
  {
   "cell_type": "code",
   "execution_count": 29,
   "metadata": {},
   "outputs": [],
   "source": [
    "API_KEY = settings.PLANTNET_API_KEY\n",
    "PROJECT = 'all'\n",
    "api_endpoint = f\"https://my-api.plantnet.org/v2/identify/{PROJECT}?api-key={API_KEY}\""
   ]
  },
  {
   "cell_type": "markdown",
   "metadata": {},
   "source": [
    "# Identifying plants\n",
    "\n",
    "We'll use the PlantNet API (as a starting point, TODO: investigate iNaturalist API) to identify user-uploaded images of plants. As a first step, we'll expect the user photos to contain a single plant, though eventually we want to apply image segmentation to handle whole-landscape images. The PlantNet API requires us to identify a prominent organ type (leaf, flower, bark, etc.) in the image to aid in identification; we need to experiment with how much this matters, and whether we can handle it without user input."
   ]
  },
  {
   "cell_type": "code",
   "execution_count": 30,
   "metadata": {},
   "outputs": [],
   "source": [
    "img_path = '../data/img/img1.jpg'\n",
    "with open(img_path, 'rb') as img_data:\n",
    "    files = [\n",
    "            ('images', (img_path,img_data))\n",
    "            ]\n",
    "    req = requests.Request('POST', url = api_endpoint, files = files, data = {'organs': ['flower',]})\n",
    "    prepared = req.prepare()\n",
    "    s = requests.Session()\n",
    "    response = s.send(prepared)\n",
    "    result = json.loads(response.text)"
   ]
  },
  {
   "cell_type": "code",
   "execution_count": 31,
   "metadata": {},
   "outputs": [
    {
     "name": "stdout",
     "output_type": "stream",
     "text": [
      "Pyrus calleryana Decne. 0.42614 ['Bradford Pear', 'Callery pear', 'Ornamental pear']\n"
     ]
    }
   ],
   "source": [
    "print(result['bestMatch'], result['results'][0]['score'], result['results'][0]['species']['commonNames'])"
   ]
  },
  {
   "cell_type": "markdown",
   "metadata": {},
   "source": [
    "Let's wrap this in a function."
   ]
  },
  {
   "cell_type": "code",
   "execution_count": 86,
   "metadata": {},
   "outputs": [
    {
     "data": {
      "text/plain": [
       "(('Pyrus calleryana Decne.',\n",
       "  ['Bradford Pear', 'Callery pear', 'Ornamental pear'],\n",
       "  0.42614),\n",
       " 'pyrus calleryana')"
      ]
     },
     "execution_count": 86,
     "metadata": {},
     "output_type": "execute_result"
    }
   ],
   "source": [
    "def id_plant(img_path,organ = 'leaf'):\n",
    "    with open(img_path, 'rb') as img_data:\n",
    "        files = [\n",
    "                ('images', (img_path,img_data))\n",
    "                ]\n",
    "        req = requests.Request('POST', url = api_endpoint, files = files, data = {'organs': [organ,]})\n",
    "        prepared = req.prepare()\n",
    "        s = requests.Session()\n",
    "        response = s.send(prepared)\n",
    "        result = json.loads(response.text)\n",
    "    return result['bestMatch'], result['results'][0]['species']['commonNames'], result['results'][0]['score']\n",
    "\n",
    "def species_id(plant_id):\n",
    "    species = plant_id[0].lower().split()\n",
    "    return ''.join(species[0] + ' ' + species[1])\n",
    "\n",
    "id_plant(img_path), species_id(id_plant(img_path))"
   ]
  },
  {
   "cell_type": "markdown",
   "metadata": {},
   "source": [
    "# Comparing results to the PA Invasive species list"
   ]
  },
  {
   "cell_type": "code",
   "execution_count": 16,
   "metadata": {},
   "outputs": [
    {
     "data": {
      "text/html": [
       "<div>\n",
       "<style scoped>\n",
       "    .dataframe tbody tr th:only-of-type {\n",
       "        vertical-align: middle;\n",
       "    }\n",
       "\n",
       "    .dataframe tbody tr th {\n",
       "        vertical-align: top;\n",
       "    }\n",
       "\n",
       "    .dataframe thead th {\n",
       "        text-align: right;\n",
       "    }\n",
       "</style>\n",
       "<table border=\"1\" class=\"dataframe\">\n",
       "  <thead>\n",
       "    <tr style=\"text-align: right;\">\n",
       "      <th></th>\n",
       "      <th>Scientific Name</th>\n",
       "      <th>Common Name</th>\n",
       "      <th>PISC Priority Score</th>\n",
       "      <th>PA Noxious Weed Rank</th>\n",
       "      <th>Invasive Assessment Score</th>\n",
       "      <th>Aquatic or Terrestrial</th>\n",
       "      <th>PLNA Economic Importance Score</th>\n",
       "      <th>DCNR Rank</th>\n",
       "      <th>EDRR</th>\n",
       "    </tr>\n",
       "  </thead>\n",
       "  <tbody>\n",
       "    <tr>\n",
       "      <th>0</th>\n",
       "      <td>Wisteria sinensis</td>\n",
       "      <td>Chinese Wisteria</td>\n",
       "      <td>3.6</td>\n",
       "      <td>NaN</td>\n",
       "      <td>57.0</td>\n",
       "      <td>Terrestrial</td>\n",
       "      <td>4.2</td>\n",
       "      <td>2</td>\n",
       "      <td>No</td>\n",
       "    </tr>\n",
       "    <tr>\n",
       "      <th>1</th>\n",
       "      <td>Wisteria floribunda</td>\n",
       "      <td>Japanese Wisteria</td>\n",
       "      <td>4.5</td>\n",
       "      <td>NaN</td>\n",
       "      <td>57.0</td>\n",
       "      <td>Terrestrial</td>\n",
       "      <td>4.6</td>\n",
       "      <td>2</td>\n",
       "      <td>No</td>\n",
       "    </tr>\n",
       "    <tr>\n",
       "      <th>2</th>\n",
       "      <td>Vincetoxicum rossicum</td>\n",
       "      <td>Pale Swallow-Wort</td>\n",
       "      <td>4.4</td>\n",
       "      <td>B</td>\n",
       "      <td>88.0</td>\n",
       "      <td>Terrestrial</td>\n",
       "      <td>0.1</td>\n",
       "      <td>1</td>\n",
       "      <td>No</td>\n",
       "    </tr>\n",
       "    <tr>\n",
       "      <th>3</th>\n",
       "      <td>Vincetoxicum nigrum</td>\n",
       "      <td>Black Swallow-Wort</td>\n",
       "      <td>4.5</td>\n",
       "      <td>B</td>\n",
       "      <td>90.0</td>\n",
       "      <td>Terrestrial</td>\n",
       "      <td>0.4</td>\n",
       "      <td>1</td>\n",
       "      <td>No</td>\n",
       "    </tr>\n",
       "    <tr>\n",
       "      <th>4</th>\n",
       "      <td>Vinca minor</td>\n",
       "      <td>Common Periwinkle</td>\n",
       "      <td>2.2</td>\n",
       "      <td>NaN</td>\n",
       "      <td>57.0</td>\n",
       "      <td>Terrestrial</td>\n",
       "      <td>7.6</td>\n",
       "      <td>3</td>\n",
       "      <td>No</td>\n",
       "    </tr>\n",
       "  </tbody>\n",
       "</table>\n",
       "</div>"
      ],
      "text/plain": [
       "         Scientific Name         Common Name  PISC Priority Score  \\\n",
       "0      Wisteria sinensis    Chinese Wisteria                  3.6   \n",
       "1    Wisteria floribunda   Japanese Wisteria                  4.5   \n",
       "2  Vincetoxicum rossicum   Pale Swallow-Wort                  4.4   \n",
       "3    Vincetoxicum nigrum  Black Swallow-Wort                  4.5   \n",
       "4            Vinca minor   Common Periwinkle                  2.2   \n",
       "\n",
       "  PA Noxious Weed Rank  Invasive Assessment Score Aquatic or Terrestrial  \\\n",
       "0                  NaN                       57.0            Terrestrial   \n",
       "1                  NaN                       57.0            Terrestrial   \n",
       "2                    B                       88.0            Terrestrial   \n",
       "3                    B                       90.0            Terrestrial   \n",
       "4                  NaN                       57.0            Terrestrial   \n",
       "\n",
       "   PLNA Economic Importance Score DCNR Rank EDRR  \n",
       "0                             4.2         2   No  \n",
       "1                             4.6         2   No  \n",
       "2                             0.1         1   No  \n",
       "3                             0.4         1   No  \n",
       "4                             7.6         3   No  "
      ]
     },
     "execution_count": 16,
     "metadata": {},
     "output_type": "execute_result"
    }
   ],
   "source": [
    "invasives = pd.read_csv('../data/pa_invasives.csv')\n",
    "invasives.head(5)"
   ]
  },
  {
   "cell_type": "code",
   "execution_count": 17,
   "metadata": {},
   "outputs": [
    {
     "data": {
      "text/plain": [
       "'reynoutria japonica'"
      ]
     },
     "execution_count": 17,
     "metadata": {},
     "output_type": "execute_result"
    }
   ],
   "source": [
    "invasives.iloc[92,0]"
   ]
  },
  {
   "cell_type": "code",
   "execution_count": 10,
   "metadata": {},
   "outputs": [
    {
     "name": "stderr",
     "output_type": "stream",
     "text": [
      "C:\\Users\\mreek\\AppData\\Local\\Temp\\ipykernel_16896\\2497986613.py:1: FutureWarning: Setting an item of incompatible dtype is deprecated and will raise an error in a future version of pandas. Value 'reynoutria japonica' has dtype incompatible with int64, please explicitly cast to a compatible dtype first.\n",
      "  invasives.iloc[92,0] = 'reynoutria japonica'\n"
     ]
    }
   ],
   "source": [
    "invasives.iloc[92,0] = 'reynoutria japonica'\n",
    "invasives.to_csv('../data/pa_invasives.csv',index=False)"
   ]
  },
  {
   "cell_type": "markdown",
   "metadata": {},
   "source": [
    "We've identified an invasive Callery/Bradford pear up above. Let's try to match it to this list."
   ]
  },
  {
   "cell_type": "code",
   "execution_count": 34,
   "metadata": {},
   "outputs": [
    {
     "data": {
      "text/html": [
       "<div>\n",
       "<style scoped>\n",
       "    .dataframe tbody tr th:only-of-type {\n",
       "        vertical-align: middle;\n",
       "    }\n",
       "\n",
       "    .dataframe tbody tr th {\n",
       "        vertical-align: top;\n",
       "    }\n",
       "\n",
       "    .dataframe thead th {\n",
       "        text-align: right;\n",
       "    }\n",
       "</style>\n",
       "<table border=\"1\" class=\"dataframe\">\n",
       "  <thead>\n",
       "    <tr style=\"text-align: right;\">\n",
       "      <th></th>\n",
       "      <th>Scientific Name</th>\n",
       "      <th>Common Name</th>\n",
       "      <th>PISC Priority Score</th>\n",
       "      <th>PA Noxious Weed Rank</th>\n",
       "      <th>Invasive Assessment Score</th>\n",
       "      <th>Aquatic or Terrestrial</th>\n",
       "      <th>PLNA Economic Importance Score</th>\n",
       "      <th>DCNR Rank</th>\n",
       "      <th>EDRR</th>\n",
       "    </tr>\n",
       "  </thead>\n",
       "  <tbody>\n",
       "  </tbody>\n",
       "</table>\n",
       "</div>"
      ],
      "text/plain": [
       "Empty DataFrame\n",
       "Columns: [Scientific Name, Common Name, PISC Priority Score, PA Noxious Weed Rank, Invasive Assessment Score, Aquatic or Terrestrial, PLNA Economic Importance Score, DCNR Rank, EDRR]\n",
       "Index: []"
      ]
     },
     "execution_count": 34,
     "metadata": {},
     "output_type": "execute_result"
    }
   ],
   "source": [
    "invasives.loc[invasives['Scientific Name'] == 'pyrus calleryana']"
   ]
  },
  {
   "cell_type": "code",
   "execution_count": 15,
   "metadata": {},
   "outputs": [
    {
     "data": {
      "text/plain": [
       "True"
      ]
     },
     "execution_count": 15,
     "metadata": {},
     "output_type": "execute_result"
    }
   ],
   "source": [
    "'reynoutria japonica' in invasives['Scientific Name'].to_list()"
   ]
  },
  {
   "cell_type": "code",
   "execution_count": 13,
   "metadata": {},
   "outputs": [
    {
     "ename": "NameError",
     "evalue": "name 'species_id' is not defined",
     "output_type": "error",
     "traceback": [
      "\u001b[1;31m---------------------------------------------------------------------------\u001b[0m",
      "\u001b[1;31mNameError\u001b[0m                                 Traceback (most recent call last)",
      "Cell \u001b[1;32mIn[13], line 4\u001b[0m\n\u001b[0;32m      1\u001b[0m invasives[\u001b[38;5;124m'\u001b[39m\u001b[38;5;124mScientific Name\u001b[39m\u001b[38;5;124m'\u001b[39m] \u001b[38;5;241m=\u001b[39m invasives[\u001b[38;5;124m'\u001b[39m\u001b[38;5;124mScientific Name\u001b[39m\u001b[38;5;124m'\u001b[39m]\u001b[38;5;241m.\u001b[39mstr\u001b[38;5;241m.\u001b[39mlower()\n\u001b[1;32m----> 4\u001b[0m invasives[invasives[\u001b[38;5;124m'\u001b[39m\u001b[38;5;124mScientific Name\u001b[39m\u001b[38;5;124m'\u001b[39m] \u001b[38;5;241m==\u001b[39m \u001b[43mspecies_id\u001b[49m(id_plant(img_path))]\n",
      "\u001b[1;31mNameError\u001b[0m: name 'species_id' is not defined"
     ]
    }
   ],
   "source": [
    "invasives['Scientific Name'] = invasives['Scientific Name'].str.lower()\n",
    "\n",
    "\n",
    "invasives[invasives['Scientific Name'] == species_id(id_plant(img_path))]"
   ]
  },
  {
   "cell_type": "code",
   "execution_count": 80,
   "metadata": {},
   "outputs": [],
   "source": [
    "def is_invasive(species_id):\n",
    "    if species_id in invasives['Scientific Name'].str.lower().to_list():\n",
    "        return 'Invasive'\n",
    "    else:\n",
    "        return 'Non-invasive'"
   ]
  },
  {
   "cell_type": "markdown",
   "metadata": {},
   "source": [
    "Great! Let's do some battery testing."
   ]
  },
  {
   "cell_type": "code",
   "execution_count": 95,
   "metadata": {},
   "outputs": [
    {
     "name": "stdout",
     "output_type": "stream",
     "text": [
      "ID: pyrus calleryana, common names ['Bradford Pear', 'Callery pear', 'Ornamental pear'] is Invasive.\n",
      "ID: wisteria sinensis, common names ['Chinese Wisteria', 'Purple wisteria', 'پیچ گلیسین'] is Invasive.\n",
      "ID: reynoutria japonica, common names ['Japanese knotweed', 'Impossible to kill invasive demon plant', 'Mexican-bamboo'] is Invasive.\n",
      "ID: viburnum acerifolium, common names ['Mapleleaf viburnum', 'Dockmackie', 'Arrow-wood'] is Non-invasive.\n",
      "ID: tulipa agenensis, common names ['Eyed tulip', 'Common tulip', 'Tulip'] is Non-invasive.\n",
      "ID: quercus robur, common names ['Common Oak', 'English oak', 'Carvalho-alvarinho'] is Non-invasive.\n",
      "ID: phlox subulata, common names ['Moss phlox', 'Creeping phlox', 'Moss-pink'] is Non-invasive.\n"
     ]
    }
   ],
   "source": [
    "import os\n",
    "\n",
    "imgs = os.listdir('../data/img')\n",
    "for img in imgs:\n",
    "    plant_id = id_plant('../data/img/'+img) #organ always set to leaf -- to what extent does this matter?\n",
    "    species = species_id(plant_id)\n",
    "    invasive = is_invasive(species)\n",
    "    print(f'ID: {species}, common names {plant_id[1]} is {invasive}.')\n"
   ]
  }
 ],
 "metadata": {
  "kernelspec": {
   "display_name": ".venv",
   "language": "python",
   "name": "python3"
  },
  "language_info": {
   "codemirror_mode": {
    "name": "ipython",
    "version": 3
   },
   "file_extension": ".py",
   "mimetype": "text/x-python",
   "name": "python",
   "nbconvert_exporter": "python",
   "pygments_lexer": "ipython3",
   "version": "3.12.2"
  }
 },
 "nbformat": 4,
 "nbformat_minor": 2
}
